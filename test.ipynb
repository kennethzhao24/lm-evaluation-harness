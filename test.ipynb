{
 "cells": [
  {
   "cell_type": "code",
   "execution_count": 23,
   "metadata": {},
   "outputs": [],
   "source": [
    "import os\n",
    "import json\n",
    "import torch\n",
    "from collections import OrderedDict\n",
    "from transformers import AutoConfig, AutoTokenizer, PreTrainedTokenizerFast\n",
    "from types import SimpleNamespace\n",
    "\n",
    "def print_size_of_model(model):\n",
    "    torch.save(model.state_dict(), \"temp.p\")\n",
    "    print('Size (MB):', os.path.getsize(\"temp.p\")/1e6)\n",
    "    os.remove('temp.p')\n",
    "\n",
    "def check_for_weight_keys(ckpt):\n",
    "    new_state_dict = OrderedDict()\n",
    "    for k, v in ckpt.items():\n",
    "        if k[:6] == 'module':               \n",
    "            name = k[7:] # remove `module.`\n",
    "        else:\n",
    "            name = k\n",
    "        new_state_dict[name] = v\n",
    "    return new_state_dict"
   ]
  },
  {
   "cell_type": "code",
   "execution_count": 34,
   "metadata": {},
   "outputs": [
    {
     "name": "stdout",
     "output_type": "stream",
     "text": [
      "Load Pretrained Weights\n",
      "Size (MB): 237.203603\n"
     ]
    }
   ],
   "source": [
    "from lm_eval.models.opt_models.dynamic_opt import OPTForCausalLM\n",
    "\n",
    "tokenizer = PreTrainedTokenizerFast(tokenizer_file='./lm_eval/20B_tokenizer.json')\n",
    "tokenizer.pad_token_id = 1\n",
    "\n",
    "with open('/home/youpengzhao/code/pretrained/60M_150k/config.json') as f:\n",
    "    data = json.loads(f.read())\n",
    "config = SimpleNamespace(**data)        \n",
    "# change vocab size to match 20B tokenizer\n",
    "config.vocab_size = 50277\n",
    "opt = OPTForCausalLM(config)\n",
    "ckpt = torch.load('/home/youpengzhao/code/pretrained/60M_150k/opt_60000.pth', map_location='cpu')\n",
    "# load_pretrained(ckpt, self.opt)\n",
    "ckpt = check_for_weight_keys(ckpt)\n",
    "opt.load_state_dict(ckpt)\n",
    "print('Load Pretrained Weights')\n",
    "print_size_of_model(opt)"
   ]
  },
  {
   "cell_type": "code",
   "execution_count": 35,
   "metadata": {},
   "outputs": [
    {
     "name": "stdout",
     "output_type": "stream",
     "text": [
      "Size (MB): 217.121468\n"
     ]
    }
   ],
   "source": [
    "opt = torch.quantization.quantize_dynamic(\n",
    "                opt, \n",
    "                {torch.nn.Linear}, \n",
    "                dtype=torch.qint8)\n",
    "\n",
    "print_size_of_model(opt)"
   ]
  },
  {
   "cell_type": "code",
   "execution_count": null,
   "metadata": {},
   "outputs": [],
   "source": [
    "rho = 2/9\n",
    "\n",
    "x = (1 + 3 * rho + 9 * rho^2 / 4 + 9 * rho^3/(2*(1-rho)))"
   ]
  },
  {
   "cell_type": "code",
   "execution_count": null,
   "metadata": {},
   "outputs": [],
   "source": []
  }
 ],
 "metadata": {
  "kernelspec": {
   "display_name": "nlp",
   "language": "python",
   "name": "python3"
  },
  "language_info": {
   "codemirror_mode": {
    "name": "ipython",
    "version": 3
   },
   "file_extension": ".py",
   "mimetype": "text/x-python",
   "name": "python",
   "nbconvert_exporter": "python",
   "pygments_lexer": "ipython3",
   "version": "3.9.16"
  },
  "orig_nbformat": 4,
  "vscode": {
   "interpreter": {
    "hash": "a0d390687cd339eb953412a1fc63e66b8089e403a3a66fa9772386419ead3bc2"
   }
  }
 },
 "nbformat": 4,
 "nbformat_minor": 2
}
